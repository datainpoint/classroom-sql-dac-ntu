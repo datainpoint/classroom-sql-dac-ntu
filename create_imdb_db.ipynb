{
 "cells": [
  {
   "cell_type": "code",
   "execution_count": 1,
   "metadata": {
    "id": "jadTEy3W4zls"
   },
   "outputs": [],
   "source": [
    "import sqlite3\n",
    "import pandas as pd"
   ]
  },
  {
   "cell_type": "code",
   "execution_count": 2,
   "metadata": {
    "id": "ZfMD7mKc0i6f"
   },
   "outputs": [],
   "source": [
    "conn = sqlite3.connect('imdbCloned.db')\n",
    "movies = pd.read_csv(\"csvfiles/movies.csv\")\n",
    "actors = pd.read_csv(\"csvfiles/actors.csv\")\n",
    "casting = pd.read_csv(\"csvfiles/casting.csv\")\n",
    "movies.to_sql('movies', conn, index=False)\n",
    "actors.to_sql('actors', conn, index=False)\n",
    "casting.to_sql('casting', conn, index=False)"
   ]
  }
 ],
 "metadata": {
  "colab": {
   "name": "get_imdb_data.ipynb",
   "provenance": []
  },
  "kernelspec": {
   "display_name": "Python Data Science",
   "language": "python",
   "name": "pyds"
  },
  "language_info": {
   "codemirror_mode": {
    "name": "ipython",
    "version": 3
   },
   "file_extension": ".py",
   "mimetype": "text/x-python",
   "name": "python",
   "nbconvert_exporter": "python",
   "pygments_lexer": "ipython3",
   "version": "3.8.10"
  }
 },
 "nbformat": 4,
 "nbformat_minor": 1
}
