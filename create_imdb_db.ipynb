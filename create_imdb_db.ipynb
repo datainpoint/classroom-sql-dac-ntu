{
 "cells": [
  {
   "cell_type": "code",
   "execution_count": 1,
   "metadata": {
    "id": "jadTEy3W4zls"
   },
   "outputs": [],
   "source": [
    "import sqlite3\n",
    "import pandas as pd"
   ]
  },
  {
   "cell_type": "code",
   "execution_count": 2,
   "metadata": {
    "id": "ZfMD7mKc0i6f"
   },
   "outputs": [],
   "source": [
    "con = sqlite3.connect('imdbCloned.db')\n",
    "cur = con.cursor()\n",
    "movies = pd.read_csv(\"csvfiles/movies.csv\")\n",
    "actors = pd.read_csv(\"csvfiles/actors.csv\")\n",
    "casting = pd.read_csv(\"csvfiles/casting.csv\")\n",
    "movies.to_sql('movies', con, index=False)\n",
    "actors.to_sql('actors', con, index=False)\n",
    "casting.to_sql('casting', con, index=False)"
   ]
  },
  {
   "cell_type": "code",
   "execution_count": 3,
   "metadata": {},
   "outputs": [],
   "source": [
    "create_movies = \"\"\"\n",
    "PRAGMA foreign_keys=off;\n",
    "BEGIN TRANSACTION;\n",
    "ALTER TABLE movies RENAME TO movies_no_keys;\n",
    "CREATE TABLE movies (\n",
    "    id INTEGER,\n",
    "    title TEXT,\n",
    "    release_year INTEGER,\n",
    "    rating REAL,\n",
    "    director TEXT,\n",
    "    runtime TEXT,\n",
    "    PRIMARY KEY (id)\n",
    ");\n",
    "INSERT INTO movies SELECT * FROM movies_no_keys;\n",
    "COMMIT;\n",
    "PRAGMA foreign_keys=on;\n",
    "\"\"\"\n",
    "cur.executescript(create_movies)\n",
    "con.commit()"
   ]
  },
  {
   "cell_type": "code",
   "execution_count": 4,
   "metadata": {},
   "outputs": [],
   "source": [
    "create_actors = \"\"\"\n",
    "PRAGMA foreign_keys=off;\n",
    "BEGIN TRANSACTION;\n",
    "ALTER TABLE actors RENAME TO actors_no_keys;\n",
    "CREATE TABLE actors (\n",
    "    id INTEGER,\n",
    "    name TEXT,\n",
    "    PRIMARY KEY (id)\n",
    ");\n",
    "INSERT INTO actors SELECT * FROM actors_no_keys;\n",
    "COMMIT;\n",
    "PRAGMA foreign_keys=on;\n",
    "\"\"\"\n",
    "cur.executescript(create_actors)\n",
    "con.commit()"
   ]
  },
  {
   "cell_type": "code",
   "execution_count": 5,
   "metadata": {},
   "outputs": [],
   "source": [
    "create_casting = \"\"\"\n",
    "PRAGMA foreign_keys=off;\n",
    "BEGIN TRANSACTION;\n",
    "ALTER TABLE casting RENAME TO casting_no_keys;\n",
    "CREATE TABLE casting (\n",
    "    movie_id INTEGER,\n",
    "    actor_id INTEGER,\n",
    "    ord INTEGER,\n",
    "    FOREIGN KEY (movie_id) REFERENCES movies (id) \n",
    "            ON DELETE CASCADE ON UPDATE NO ACTION,\n",
    "    FOREIGN KEY (actor_id) REFERENCES actors (id) \n",
    "            ON DELETE CASCADE ON UPDATE NO ACTION\n",
    ");\n",
    "INSERT INTO casting SELECT * FROM casting_no_keys;\n",
    "COMMIT;\n",
    "PRAGMA foreign_keys=on;\n",
    "\"\"\"\n",
    "cur.executescript(create_casting)\n",
    "con.commit()"
   ]
  },
  {
   "cell_type": "code",
   "execution_count": 6,
   "metadata": {},
   "outputs": [],
   "source": [
    "drop_tables = \"\"\"\n",
    "DROP TABLE movies_no_keys;\n",
    "DROP TABLE actors_no_keys;\n",
    "DROP TABLE casting_no_keys;\n",
    "\"\"\"\n",
    "cur.executescript(drop_tables)\n",
    "con.commit()"
   ]
  },
  {
   "cell_type": "code",
   "execution_count": 7,
   "metadata": {},
   "outputs": [],
   "source": [
    "con.close()"
   ]
  }
 ],
 "metadata": {
  "colab": {
   "name": "get_imdb_data.ipynb",
   "provenance": []
  },
  "kernelspec": {
   "display_name": "Python Data Science",
   "language": "python",
   "name": "pyds"
  },
  "language_info": {
   "codemirror_mode": {
    "name": "ipython",
    "version": 3
   },
   "file_extension": ".py",
   "mimetype": "text/x-python",
   "name": "python",
   "nbconvert_exporter": "python",
   "pygments_lexer": "ipython3",
   "version": "3.8.10"
  }
 },
 "nbformat": 4,
 "nbformat_minor": 1
}
